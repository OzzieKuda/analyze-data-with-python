{
 "cells": [
  {
   "cell_type": "markdown",
   "metadata": {},
   "source": [
    "# Analyzing Data with Python\n",
    "\n",
    "I will use this notebook to summarize everything I learn about analyzing data with Python. The reason for this is primarily to use it as a tool to learning Data Analytics & Python."
   ]
  },
  {
   "cell_type": "markdown",
   "metadata": {},
   "source": [
    "## on Jupyter Notebooks\n",
    "\n",
    "\n",
    "### Open Jupyter Notebook \n",
    "- open CLI\n",
    "- cd to directory\n",
    "- activate conda env\n",
    "- type `jupyter notebook` in the CLI.\n",
    "\n",
    "### General Information\n",
    "- Green frame / left border => edit mode\n",
    "- Blue frame / left border => command mode\n",
    "- enter edit mode with enter\n",
    "- exit edit mode with esc\n",
    "\n",
    "### Important Keyboard Shortcuts\n",
    "\n",
    "- shift + enter => execute code, go to cell belowe, create a new cell if there isn't any yet\n",
    "- cmd + enter => execute code, stay in the cell\n",
    "- tab => code completion\n",
    "- shift + tab => tooltip\n",
    "- shift + tab, tab => extended tooltip\n",
    "- S => save\n",
    "- H => show list of shortcuts\n",
    "- A => insert cell above\n",
    "- B => insert cell belowe\n",
    "- Y => change cell format from markdown to code\n",
    "- M => change cell format from code to markdown\n",
    "- L => show line numbers in code cells\n",
    "- D, D => delete a cell\n",
    "- Shift + cmd + P => show command palette"
   ]
  },
  {
   "cell_type": "code",
   "execution_count": null,
   "metadata": {},
   "outputs": [],
   "source": []
  }
 ],
 "metadata": {
  "kernelspec": {
   "display_name": "Python [conda env:DataAnalytics] *",
   "language": "python",
   "name": "conda-env-DataAnalytics-py"
  },
  "language_info": {
   "codemirror_mode": {
    "name": "ipython",
    "version": 3
   },
   "file_extension": ".py",
   "mimetype": "text/x-python",
   "name": "python",
   "nbconvert_exporter": "python",
   "pygments_lexer": "ipython3",
   "version": "3.8.5"
  }
 },
 "nbformat": 4,
 "nbformat_minor": 4
}
