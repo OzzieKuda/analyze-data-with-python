{
 "cells": [
  {
   "cell_type": "markdown",
   "metadata": {},
   "source": [
    "# Analyzing Data with Python\n",
    "\n",
    "I will use this notebook to summarize everything I learn about analyzing data with Python. The reason for this is primarily to use it as a tool to learning Data Analytics & Python."
   ]
  },
  {
   "cell_type": "markdown",
   "metadata": {},
   "source": [
    "## Important Keyboard Shortcuts\n",
    "\n",
    "- S => save\n",
    "- H => show list of shortcuts\n",
    "- A => insert cell above\n",
    "- B => insert cell belowe\n",
    "- Y => change cell format from markdown to code\n",
    "- M => change cell format from code to markdown\n",
    "- L => show line numbers in code cells\n",
    "- D, D => delete a cell\n",
    "- Shift + cmd + P => show command palette"
   ]
  }
 ],
 "metadata": {
  "kernelspec": {
   "display_name": "Python [conda env:DataAnalytics] *",
   "language": "python",
   "name": "conda-env-DataAnalytics-py"
  },
  "language_info": {
   "codemirror_mode": {
    "name": "ipython",
    "version": 3
   },
   "file_extension": ".py",
   "mimetype": "text/x-python",
   "name": "python",
   "nbconvert_exporter": "python",
   "pygments_lexer": "ipython3",
   "version": "3.8.5"
  }
 },
 "nbformat": 4,
 "nbformat_minor": 4
}
